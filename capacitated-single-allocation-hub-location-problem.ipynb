{
 "cells": [
  {
   "cell_type": "code",
   "execution_count": null,
   "metadata": {
    "scrolled": true
   },
   "outputs": [],
   "source": [
    "import numpy as np\n",
    "import pandas as pd\n",
    "import random\n",
    "import itertools\n",
    "import time\n"
   ]
  },
  {
   "cell_type": "code",
   "execution_count": null,
   "metadata": {
    "scrolled": true
   },
   "outputs": [],
   "source": [
    "CAB_10_nodes_flow = pd.read_csv(\"10_nodes_CAB_flow.csv\",delimiter= \";\", header=None)                            \n"
   ]
  },
  {
   "cell_type": "code",
   "execution_count": null,
   "metadata": {
    "scrolled": true
   },
   "outputs": [],
   "source": [
    "CAB_10_nodes_cost = pd.read_csv(\"10_nodes_CAB_cost.csv\",delimiter= \";\", header=None)\n",
    "for i in range(0, 10):\n",
    "    CAB_10_nodes_cost[i] = [float(string.replace(',','.')) for string in CAB_10_nodes_cost[i] ]\n"
   ]
  },
  {
   "cell_type": "code",
   "execution_count": null,
   "metadata": {
    "scrolled": true
   },
   "outputs": [],
   "source": [
    "CAB_25_nodes_flow = pd.read_csv(\"25_nodes_CAB_flow.csv\", header=None)                            \n"
   ]
  },
  {
   "cell_type": "code",
   "execution_count": null,
   "metadata": {
    "scrolled": true
   },
   "outputs": [],
   "source": [
    "CAB_25_nodes_cost = pd.read_csv(\"25_nodes_CAB_cost.csv\", header=None)\n"
   ]
  },
  {
   "cell_type": "code",
   "execution_count": null,
   "metadata": {
    "scrolled": true
   },
   "outputs": [],
   "source": [
    "TR_25_nodes_flow = pd.read_csv(\"25_nodes_TR_flow.csv\", header=None)\n"
   ]
  },
  {
   "cell_type": "code",
   "execution_count": null,
   "metadata": {
    "scrolled": true
   },
   "outputs": [],
   "source": [
    "TR_25_nodes_cost = pd.read_csv(\"25_nodes_TR_cost.csv\", header=None)\n"
   ]
  },
  {
   "cell_type": "code",
   "execution_count": null,
   "metadata": {
    "scrolled": true
   },
   "outputs": [],
   "source": [
    "TR_55_nodes_flow = pd.read_csv(\"55_nodes_TR_flow.csv\", header=None)\n"
   ]
  },
  {
   "cell_type": "code",
   "execution_count": null,
   "metadata": {
    "scrolled": true
   },
   "outputs": [],
   "source": [
    "TR_55_nodes_cost = pd.read_csv(\"55_nodes_TR_cost.csv\", header=None)\n"
   ]
  },
  {
   "cell_type": "code",
   "execution_count": null,
   "metadata": {
    "scrolled": true
   },
   "outputs": [],
   "source": [
    "cab_10_capacity = [499513, 699318, 989036]\n",
    "cab_25_capacity = [4270003, 5978004.2, 8454605.94]\n",
    "tr_25_capacity = [13605802, 19048122.8, 26939487.96]\n",
    "tr_55_capacity = [20376213.5, 28526698.9, 40344902.73]\n",
    "hub_fixed_costs = [50000000, 100000000, 150000000]"
   ]
  },
  {
   "cell_type": "code",
   "execution_count": null,
   "metadata": {
    "scrolled": true
   },
   "outputs": [],
   "source": [
    "#RANDOM INITIAL SOLUTION GENERATOR\n",
    "def random_initial_solution_generator(n_nodes, n_hubs):\n",
    "    nodes = list(range(1, n_nodes+1))\n",
    "    hubs = random.sample(nodes, n_hubs)\n",
    "    solution = [0]*n_nodes\n",
    "    \n",
    "    #PLACING THE HUBS\n",
    "    for hub in hubs:\n",
    "        solution.pop(hub-1)\n",
    "        solution.insert(hub-1, hub)\n",
    "    \n",
    "    spoke_index_list = [node-1 for node in nodes if node not in hubs]\n",
    "\n",
    "    #PLACING THE SPOKES\n",
    "    random.shuffle(spoke_index_list)\n",
    "\n",
    "    for index in spoke_index_list:\n",
    "        solution.pop(index)\n",
    "        solution.insert(index, random.choice(hubs))\n",
    "\n",
    "    return solution"
   ]
  },
  {
   "cell_type": "code",
   "execution_count": null,
   "metadata": {
    "scrolled": true
   },
   "outputs": [],
   "source": [
    "def least_cost_random_hub_based_solution_generator(n_nodes, n_hubs, cost_matrix):\n",
    "\n",
    "    nodes = list(range(1, n_nodes+1))\n",
    "    hubs = random.sample(nodes, n_hubs)\n",
    "    solution = [0]*n_nodes\n",
    "    for hub in hubs:\n",
    "        nodes.remove(hub)\n",
    "        spokes=nodes\n",
    "    spoke_index_list = [(spoke-1) for spoke in spokes]\n",
    "    hub_index_list = [(hub-1) for hub in hubs]\n",
    "\n",
    "\n",
    "\n",
    "    for hub in hubs:\n",
    "        solution.pop(hub-1)\n",
    "        solution.insert(hub-1, hub)\n",
    "    \n",
    "    spoke_index_list = [node-1 for node in nodes if node not in hubs]\n",
    "\n",
    "    \n",
    "    #DECIDING THE HUBS OF THE NODES BASED ON THE LEAST COST\n",
    "    spoke_hub_cost={}\n",
    "    for spoke_index in spoke_index_list:\n",
    "        spoke_hub_cost[spoke_index+1] = [(cost_matrix.iloc[spoke_index][hub-1],hub) for hub in hubs]\n",
    "    spoke_hub_distribution = {}\n",
    "    for spoke in list(spoke_hub_cost.keys()):\n",
    "        costs = [ij[0] for ij in spoke_hub_cost[spoke]]\n",
    "        hub = [ij[1] for ij in spoke_hub_cost[spoke] if ij[0] == min(costs)][0]\n",
    "        spoke_hub_distribution[spoke] = hub  \n",
    "        \n",
    "    #CREATING SPOKE,HUB INDEX LIST\n",
    "    spoke_hub_index_couples = [] \n",
    "    for spoke_index in spoke_index_list:\n",
    "        for hub in hubs:\n",
    "            if spoke_hub_distribution[spoke_index+1] == hub:\n",
    "                spoke_hub_index_couples.append((spoke_index, hub-1))\n",
    "    spoke_hubs_indexes = list(set(spoke_hub_index_couples))\n",
    "\n",
    "    #PLACING THE SPOKES ACCORDING TO THE ABOVE LIST\n",
    "    for index_couple in spoke_hubs_indexes:\n",
    "        solution.pop(index_couple[0])\n",
    "        solution.insert(index_couple[0],index_couple[1]+1 )\n",
    "\n",
    "    return solution"
   ]
  },
  {
   "cell_type": "code",
   "execution_count": null,
   "metadata": {
    "scrolled": true
   },
   "outputs": [],
   "source": [
    "#NEIGHBOURHOOD STRUCTURE 1: swap the current random hub with random non-hub***1-s2.0-S0305054817302538\n",
    "def NS1(solution, node):\n",
    "\n",
    "    hub_to_spoke = random.choice(list(set(solution)))\n",
    "\n",
    "    spokes = [node for node in range(1, node+1) if node not in set(solution)]\n",
    "\n",
    "    spoke_to_hub = random.choice(spokes)   \n",
    "\n",
    "    solution = [spoke_to_hub if x == hub_to_spoke else x for x in solution]\n",
    "    solution[spoke_to_hub -1 ] = spoke_to_hub\n",
    "    return solution\n",
    "    \n",
    "    "
   ]
  },
  {
   "cell_type": "code",
   "execution_count": null,
   "metadata": {
    "scrolled": true
   },
   "outputs": [],
   "source": [
    "#NEIGHBOURHOOD STRUCTURE 2: swap randomly chosen two hubs ***1-s2.0-S0305054817302538******\n",
    "def NS2(solution, node):\n",
    "\n",
    "    hub1_to_swap = random.choice(list(set(solution)))\n",
    "    hubs_left = [hub for hub in set(solution) if hub != hub1_to_swap ]\n",
    "    hub2_to_swap = random.choice(hubs_left)\n",
    "\n",
    "\n",
    "    hub_spoke = {}\n",
    "    for hub in list(set(solution)):\n",
    "        hub_spoke[hub] = [i for i,val in enumerate(solution) if val==hub]\n",
    "        for spokes in list(hub_spoke.values()):\n",
    "            hub_spoke[hub] = [index for index in spokes if index != hub-1] #hubs and their spokes' indexes \n",
    "\n",
    "        \n",
    "    hub1_index = hub_spoke[hub1_to_swap]\n",
    "    hub2_index = hub_spoke[hub2_to_swap]\n",
    "    \n",
    "    for i in hub1_index:\n",
    "        solution[i] = hub2_to_swap\n",
    "    solution[(hub2_to_swap)-1] = hub2_to_swap\n",
    "    for i in hub2_index:\n",
    "        solution[i] = hub1_to_swap\n",
    "    solution[(hub1_to_swap)-1] = hub1_to_swap\n",
    "        \n",
    "\n",
    "    return solution\n",
    "\n"
   ]
  },
  {
   "cell_type": "code",
   "execution_count": null,
   "metadata": {
    "scrolled": true
   },
   "outputs": [],
   "source": [
    "#NEIGHBOURHOOD STRUCTURE 3: Swapping the nodes of two hubs( random two hubs, random one node for each chosen hub)\n",
    "def NS3(solution,node):\n",
    "\n",
    "    hubs = list(set(solution))\n",
    "\n",
    "    hubs_chosen = random.sample(hubs, 2)\n",
    "\n",
    "    hub_spoke  = {}\n",
    "    for hub in set(solution):\n",
    "        hub_spoke[hub] = [i+1 for i,val in enumerate(solution) if val==hub]\n",
    "        for spokes in list(hub_spoke.values()):\n",
    "            hub_spoke[hub] = [index for index in spokes if index != hub-1] #hubs and their spokes' indexes \n",
    "\n",
    "\n",
    "    l1 = hub_spoke[hubs_chosen[0]]\n",
    "    l2 = hub_spoke[hubs_chosen[1]]\n",
    "    \n",
    "\n",
    "    spoke1 = random.choice(l1)\n",
    "    spoke2= random.choice(l2)\n",
    "\n",
    "    solution[spoke1-1] = hubs_chosen[1]\n",
    "    solution[spoke2-1] = hubs_chosen[0]\n",
    "    \n",
    "    solution[hubs_chosen[0]-1] = hubs_chosen[0]\n",
    "    solution[hubs_chosen[1]-1] = hubs_chosen[1]\n",
    "    \n",
    "    return solution\n",
    "\n"
   ]
  },
  {
   "cell_type": "code",
   "execution_count": null,
   "metadata": {
    "scrolled": true
   },
   "outputs": [],
   "source": [
    "#NEIGHBOURHOOD STRUCTURE 4:Reallocating a node\n",
    "def NS4(solution, node):\n",
    "\n",
    "    hubs = list(set(solution))\n",
    "    nodes = list(range(1,node+1))\n",
    "    for hub in hubs:\n",
    "        nodes.remove(hub)\n",
    "\n",
    "    spoke = random.choice(nodes)\n",
    "\n",
    "    hub1 = solution[spoke-1]\n",
    "    hubs.remove(hub1)\n",
    "    hub2 = random.choice(hubs)\n",
    "\n",
    "    solution[spoke-1] = hub2\n",
    "    return solution\n",
    "    \n",
    "    "
   ]
  },
  {
   "cell_type": "code",
   "execution_count": null,
   "metadata": {
    "scrolled": true
   },
   "outputs": [],
   "source": [
    "#NEIGHBOURHOOD STRUCTURE 5: Swapping the nodes of two hubs \n",
    "def NS5(solution,node):\n",
    "\n",
    "    hubs = list(set(solution))\n",
    "    hubs_chosen = random.sample(hubs, 2)\n",
    "\n",
    "    hub_spoke = {}\n",
    "    for hub in set(solution):\n",
    "        hub_spoke[hub] = [i for i,val in enumerate(solution) if val==hub]#it takes the idexes of the hubs in the solution\n",
    "        for spokes in list(hub_spoke.values()):\n",
    "            hub_spoke[hub] = [index for index in spokes if index != hub-1] #hubs and their spokes' indexes \n",
    "    \n",
    "    for i in hub_spoke[hubs_chosen[0]]:\n",
    "        solution[i] = hubs_chosen[1]\n",
    "    for i in hub_spoke[hubs_chosen[1]]:\n",
    "        solution[i] = hubs_chosen[0]\n",
    "    \n",
    "\n",
    "    \n",
    "        \n",
    "    return solution\n",
    " "
   ]
  },
  {
   "cell_type": "code",
   "execution_count": null,
   "metadata": {
    "scrolled": true
   },
   "outputs": [],
   "source": [
    "def total_hub_flow(solution, node, flow_matrix):\n",
    "\n",
    "    hub_spoke = {}\n",
    "    for hub in set(solution):\n",
    "        hub_spoke[hub] = [i for i,val in enumerate(solution) if val == hub] #takes the indexes of the hubs in the string\n",
    "        for spokes in list(hub_spoke.values()):\n",
    "            hub_spoke[hub] = [index for index in spokes if index != hub-1] #hubs and their spokes' indexes \n",
    "    hub_flows = {}\n",
    "    from_hub_nodes_to_other_nodes = {} #including the parent hub and the other hubs\n",
    "    for hub in set(solution):\n",
    "        hub_flows[hub] = [list(flow_matrix.iloc[hub-1])] #from_hub_itself_to_other_nodes\n",
    "        from_hub_nodes_to_other_nodes[hub] = [list(flow_matrix.iloc[spoke_index]) for spoke_index in hub_spoke[hub]]\n",
    "        for flow_list in from_hub_nodes_to_other_nodes[hub]:\n",
    "            hub_flows[hub].append(flow_list)\n",
    "            \n",
    "    total_hub_flow = {}\n",
    "    for hub in set(solution):\n",
    "        total_hub_flow[hub] = sum(list(itertools.chain.from_iterable(hub_flows[hub])))         \n",
    "    return total_hub_flow\n"
   ]
  },
  {
   "cell_type": "code",
   "execution_count": null,
   "metadata": {
    "scrolled": true
   },
   "outputs": [],
   "source": [
    "#FEASIBILITY CONTROL\n",
    "def feasibility_check(solution, node, flow_matrix, capacity_matrix):\n",
    "    for flow in list(total_hub_flow(solution, node, flow_matrix ).values()):\n",
    "        if flow <= max(capacity_matrix):\n",
    "            return 1\n",
    "        else:\n",
    "            \n",
    "            return 0\n",
    "    \n",
    "    "
   ]
  },
  {
   "cell_type": "code",
   "execution_count": null,
   "metadata": {
    "scrolled": true
   },
   "outputs": [],
   "source": [
    "#CHOOSE THE CAPACITIES OF THE HUBS\n",
    "def capacities(solution, node, capacity_matrix, flow_matrix):\n",
    "    hub_capacities = {}\n",
    "    for hub in set(solution):\n",
    "        if total_hub_flow(solution, node, flow_matrix)[hub] <= capacity_matrix[0]:\n",
    "            \n",
    "            hub_capacities[hub] = capacity_matrix[0]\n",
    "            \n",
    "        elif capacity_matrix[0] < total_hub_flow(solution, node, flow_matrix)[hub] <= capacity_matrix[1]:\n",
    "            \n",
    "            hub_capacities[hub] = capacity_matrix[1]\n",
    "        else:\n",
    "            hub_capacities[hub] = capacity_matrix[2]\n",
    "            \n",
    "    return hub_capacities\n",
    "\n"
   ]
  },
  {
   "cell_type": "code",
   "execution_count": null,
   "metadata": {
    "scrolled": true
   },
   "outputs": [],
   "source": [
    "capacities([1, 20, 20, 4, 4, 20, 11, 11, 20, 11, 11, 22, 1, 1, 4, 11, 20, 20, 22, 20, 4, 22, 22, 1, 20], 25, cab_25_capacity, CAB_25_nodes_flow)  \n"
   ]
  },
  {
   "cell_type": "code",
   "execution_count": null,
   "metadata": {
    "scrolled": true
   },
   "outputs": [],
   "source": [
    "def total_network_cost(solution, node, flow_matrix, cost_matrix, alpha, capacity_matrix, fixed_cost_matrix):\n",
    "    total_flow_cost = 0\n",
    "    for i in range(0, node):\n",
    "        for j in range(0, node):\n",
    "            flow_cost = flow_matrix.iloc[i][j]*(cost_matrix.iloc[i][solution[i]-1] + alpha*cost_matrix.iloc[solution[i]-1][solution[j]-1] +cost_matrix.iloc[solution[j]-1][j] )\n",
    "            total_flow_cost = total_flow_cost + flow_cost\n",
    "    hub_capacities = list(capacities(solution, node, capacity_matrix, flow_matrix).values())\n",
    "    capacity_costs = []\n",
    "    for capacity in hub_capacities:\n",
    "        if capacity <= capacity_matrix[0]:\n",
    "            capacity_costs.append(fixed_cost_matrix[0])\n",
    "            \n",
    "        elif capacity_matrix[0]< capacity < capacity_matrix[2]:\n",
    "            capacity_costs.append(fixed_cost_matrix[1])\n",
    "        else:\n",
    "            capacity_costs.append(fixed_cost_matrix[2])\n",
    "    \n",
    "    total_fixed_costs = sum(capacity_costs)\n",
    "    \n",
    "    total_system_cost = total_flow_cost + total_fixed_costs\n",
    "    return total_system_cost\n",
    "            "
   ]
  },
  {
   "cell_type": "code",
   "execution_count": null,
   "metadata": {
    "scrolled": true
   },
   "outputs": [],
   "source": [
    "total_network_cost( [5, 2, 2, 4, 5, 4, 5, 5, 4, 5], 10, CAB_10_nodes_flow, CAB_10_nodes_cost, 0.2, cab_10_capacity, hub_fixed_costs)\n"
   ]
  },
  {
   "cell_type": "markdown",
   "metadata": {},
   "source": [
    "# GENETIC ALGORITHM"
   ]
  },
  {
   "cell_type": "code",
   "execution_count": null,
   "metadata": {
    "scrolled": true
   },
   "outputs": [],
   "source": [
    "#INITIAL POPULATION - randomly allocated hubs and spokes\n",
    "\n",
    "def initial_population(node, n_hub, flow_matrix, capacity_matrix, n_solution):\n",
    "    df_random_solutions = pd.DataFrame()\n",
    "    for i in range(n_solution ):\n",
    "        solution = random_initial_solution_generator(node,n_hub)\n",
    "        if feasibility_check(solution, node, flow_matrix, capacity_matrix) == 1 :\n",
    "            df_random_solutions[i] = solution\n",
    "\n",
    "    initial_population = [tuple(list(df_random_solutions[i])) for i in range(0,n_solution )]\n",
    "    in_population = [list(individual) for individual in initial_population]\n",
    "        \n",
    "    \n",
    "    return in_population\n",
    "          \n",
    "          "
   ]
  },
  {
   "cell_type": "code",
   "execution_count": null,
   "metadata": {
    "scrolled": true
   },
   "outputs": [],
   "source": [
    "def least_cost_initial_population(node, n_hub, flow_matrix, cost_matrix, capacity_matrix, n_solution):\n",
    "    df_solutions = pd.DataFrame()\n",
    "    for i in range(n_solution):\n",
    "        solution = random_initial_solution_generator(node,n_hub)\n",
    "        if feasibility_check(solution, node, flow_matrix, capacity_matrix) == 1 :\n",
    "            df_solutions[i] = solution\n",
    "\n",
    "    initial_population = [tuple(list(df_solutions[i])) for i in range(0,n_solution)]\n",
    "    in_population = [list(individual) for individual in initial_population]\n",
    "        \n",
    "    \n",
    "    return in_population\n",
    "          "
   ]
  },
  {
   "cell_type": "code",
   "execution_count": null,
   "metadata": {
    "scrolled": true
   },
   "outputs": [],
   "source": []
  },
  {
   "cell_type": "code",
   "execution_count": null,
   "metadata": {
    "scrolled": true
   },
   "outputs": [],
   "source": [
    "#EVALUATION OF CHROMOSOME FITNESS\n",
    "\n",
    "def fitness_evaluation(population, node, flow_matrix, cost_matrix,alpha, capacity_matrix, fixed_cost_matrix):\n",
    "    solution_cost = []\n",
    "    for solution in population:\n",
    "        cost = total_network_cost(solution, node, flow_matrix, cost_matrix, alpha, capacity_matrix, fixed_cost_matrix)\n",
    "        solution_cost.append((cost, solution))\n",
    "\n",
    "        \n",
    "    return solution_cost"
   ]
  },
  {
   "cell_type": "code",
   "execution_count": null,
   "metadata": {
    "scrolled": true
   },
   "outputs": [],
   "source": [
    "def tournament_selection(fitness_values_and_solutions, k):\n",
    "\n",
    "    chosen_individuals1 = random.sample(fitness_values_and_solutions, k)\n",
    "    parent1_fitness = min([individual[0] for individual in chosen_individuals1])\n",
    "    for individual in chosen_individuals1:\n",
    "        if individual[0] == parent1_fitness:\n",
    "            parent1 = individual\n",
    "\n",
    "    chosen_individuals2 = random.sample(fitness_values_and_solutions, k)\n",
    "    parent2_fitness = min([individual[0] for individual in chosen_individuals2])\n",
    "    for individual in chosen_individuals2:\n",
    "        if individual[0] == parent2_fitness:\n",
    "            parent2 = individual\n",
    "            \n",
    "    parents = [parent[1] for parent in [parent1, parent2] ]\n",
    "    \n",
    "    return parents    \n",
    "    "
   ]
  },
  {
   "cell_type": "code",
   "execution_count": null,
   "metadata": {
    "scrolled": true
   },
   "outputs": [],
   "source": [
    "def crossover(parents, node):\n",
    "    random_point = random.choice(range(0, node))\n",
    "    parent1 = random.choice(parents)\n",
    "    offspring = [0]*node\n",
    "    \n",
    "    for i in range(0, random_point+1):\n",
    "        offspring.pop(i)\n",
    "        offspring.insert(i, parent1[i])\n",
    "        \n",
    "    for parent in parents:\n",
    "        if parent != parent1:\n",
    "            parent2 = parent\n",
    "    parent2 = parent2\n",
    "    for i in range(random_point, node):\n",
    "        offspring.pop(i)\n",
    "        offspring.insert(i, parent2[i])\n",
    "    \n",
    "        \n",
    "    return offspring\n",
    "    "
   ]
  },
  {
   "cell_type": "code",
   "execution_count": null,
   "metadata": {
    "scrolled": true
   },
   "outputs": [],
   "source": [
    "def offspring_repair(offspring, node,  n_hub): #of if len(set(offspring)) > n_hub in the main function\n",
    " \n",
    "    hubs_offspring = []\n",
    "    \n",
    "    if len(set(offspring)) == n_hub:\n",
    "        for hub in set(offspring):\n",
    "            offspring[hub-1] = hub\n",
    "    \n",
    "    elif len(set(offspring)) > n_hub:  \n",
    "        for i in range(1500) :\n",
    "            if len(set(offspring)) == n_hub:\n",
    "                break\n",
    "            for hub in set(offspring):\n",
    "                for i in range(0, node):\n",
    "                    if offspring[i] not in hubs_offspring:\n",
    "                        hubs_offspring.append(hub)                \n",
    "\n",
    "            hub_spoke_indexes = {}\n",
    "\n",
    "            for hub in hubs_offspring:\n",
    "                hub_spoke_indexes[hub] = [i for i,val in enumerate(offspring) if val == hub] #takes the indexes of the hubs in the string\n",
    "            hub_to_remove = hubs_offspring.pop(-1)\n",
    "            \n",
    "            hubs = list(set(hubs_offspring))\n",
    "            chosen_hub = random.choice(hubs)\n",
    "            for index in hub_spoke_indexes[hub_to_remove]:\n",
    "                offspring.pop(index)\n",
    "                offspring.insert(index, chosen_hub)\n",
    "            for hub in hubs:\n",
    "                offspring.pop(hub-1)\n",
    "                offspring.insert(hub-1, hub)\n",
    "            \n",
    "                \n",
    "    \n",
    "    return offspring\n",
    "    \n",
    "    \n",
    "    \n",
    "    \n",
    "    \n",
    "    \n",
    "    "
   ]
  },
  {
   "cell_type": "code",
   "execution_count": null,
   "metadata": {
    "scrolled": true
   },
   "outputs": [],
   "source": [
    "def feasibility_offspring(offspring, n_hubs, node, flow_matrix, capacity_matrix):\n",
    "    if len(set(offspring)) == n_hubs and feasibility_check(offspring, node, flow_matrix, capacity_matrix) == 1: # and offspring != list(parents[0]) and offspring != list(parents[1]):\n",
    "        return 1\n",
    "    else:\n",
    "        return 0\n",
    "        \n",
    "    "
   ]
  },
  {
   "cell_type": "code",
   "execution_count": null,
   "metadata": {
    "scrolled": true
   },
   "outputs": [],
   "source": [
    "def mutation(offspring, node):\n",
    "    operation_list = [\"NS4\", \"NS3\", \"NS1\"]\n",
    "    chosen_operation = random.choice(operation_list)\n",
    "    if chosen_operation == \"NS4\":\n",
    "        return NS4(offspring, node)\n",
    "    elif chosen_operation == \"NS3\":\n",
    "        return NS3(offspring,node)\n",
    "    else:\n",
    "        return NS1(offspring, node)\n",
    "    "
   ]
  },
  {
   "cell_type": "markdown",
   "metadata": {},
   "source": [
    "# GENETIC ALGORITHM IMPLEMENTATION\n"
   ]
  },
  {
   "cell_type": "code",
   "execution_count": null,
   "metadata": {
    "scrolled": true
   },
   "outputs": [],
   "source": [
    "def genetic_algorithm(node, n_hub, k, flow_matrix, cost_matrix, capacity_matrix, alpha,  fixed_cost_matrix, crossover_prob, mutation_prob, n_solution):\n",
    "    start = time.time()\n",
    "    t = 0\n",
    "    offsprings = []\n",
    "    #The initial population\n",
    "    init_pop = least_cost_initial_population(node, n_hub, flow_matrix, cost_matrix, capacity_matrix, n_solution)\n",
    "    #Initial population evaluation\n",
    "    pop_evaluation = fitness_evaluation(init_pop, node, flow_matrix, cost_matrix, alpha, capacity_matrix, fixed_cost_matrix)\n",
    "    global generations, final_generations, min_values \n",
    "    generations = []\n",
    "    final_generations = []\n",
    "    counter = 0\n",
    "    while counter < 2:\n",
    "        t = t + 1\n",
    "        #print(\"t:\", t, \"number of offspring:\", len(offsprings))\n",
    "        parents = tournament_selection(pop_evaluation, k) #random da olabilir\n",
    "        \n",
    "        #parents = random.sample(init_pop, 2)\n",
    "        rand_crossover = random.uniform(0, 1)\n",
    "        #print(\"prob cross:\", rand_crossover)\n",
    "        \n",
    "        try:\n",
    "            if rand_crossover <= crossover_prob:\n",
    "                offspring_crossovered = crossover(parents, node)\n",
    "                offspring_crossovered_fixed = offspring_repair(offspring_crossovered, node, n_hub)\n",
    "                evaluation_c = total_network_cost(offspring_crossovered_fixed, node, flow_matrix, cost_matrix, alpha, capacity_matrix, fixed_cost_matrix)\n",
    "                offspring_crossovered_mutated = mutation(offspring_crossovered_fixed, node) \n",
    "                evaluation_cm = total_network_cost(offspring_crossovered_mutated, node, flow_matrix, cost_matrix, alpha, capacity_matrix, fixed_cost_matrix)\n",
    "                if evaluation_cm < evaluation_c:\n",
    "                    offsprings.append(offspring_crossovered_mutated)\n",
    "                else:\n",
    "                    offsprings.append(offspring_crossovered)\n",
    "                    \n",
    "            else:\n",
    "                chosen_parent = random.choice(parents)\n",
    "                parent_evaluation = total_network_cost(chosen_parent, node, flow_matrix, cost_matrix, alpha, capacity_matrix, fixed_cost_matrix)\n",
    "                rand_mutation = random.uniform(0, 1)\n",
    "                if rand_mutation <= mutation_prob:\n",
    "                    offspring_mutated = mutation(chosen_parent, node)\n",
    "                    evaluation_m = total_network_cost(chosen_parent, node, flow_matrix, cost_matrix, alpha, capacity_matrix, fixed_cost_matrix)\n",
    "                    if evaluation_m < parent_evaluation:\n",
    "                        offsprings.append(offspring_mutated)\n",
    "                    else:\n",
    "                        offsprings.append(chosen_parent)\n",
    "                else:\n",
    "                    offsprings.append(chosen_parent)\n",
    "\n",
    "                generations.append(offsprings)\n",
    "        except:\n",
    "            xxx = 0\n",
    "        #print(\"offsprings:\", offsprings)\n",
    "        if len(offsprings) == len(init_pop): #if t%n_solution == 0:\n",
    "            #final_generations.append(init_pop)#*****\n",
    "            parents=offsprings   #init_pop = offsprings idi öncesinde\n",
    "            init_pop = offsprings\n",
    "            offsprings = []\n",
    "            counter = counter +1\n",
    "            final_generations.append(parents)     #append(offspring idi)\n",
    "            parents = []\n",
    "            \n",
    "            \n",
    "            \n",
    "    min_value_chromosomes = []\n",
    "    for generation in final_generations:      \n",
    "        fitness_offsprings = fitness_evaluation(generation, node, flow_matrix, cost_matrix, alpha, capacity_matrix, fixed_cost_matrix)\n",
    "        evaluation_offsprings = [fitness_offsprings[i][0] for i in range(len(fitness_offsprings))]\n",
    "        evaluation_offsprings.sort()\n",
    "        evaluation_offsprings_and_chromosome = []\n",
    "        for evaluation in evaluation_offsprings:\n",
    "            for i in range(len(fitness_offsprings)):\n",
    "                if evaluation == fitness_offsprings[i][0]:\n",
    "                    evaluation_offsprings_and_chromosome.append((evaluation,fitness_offsprings[i][1]))\n",
    "                    min_value_chromosomes.append(evaluation_offsprings_and_chromosome[0])\n",
    "    min_values = []\n",
    "    for min_value_chromosome in min_value_chromosomes:\n",
    "        min_values.append(min_value_chromosome[0])\n",
    "        \n",
    "    for min_value_chromosome in min_value_chromosomes:\n",
    "        if min(min_values) == min_value_chromosome[0]:\n",
    "            end = time.time()\n",
    "            #print(\"time elapsed:\",end-start)\n",
    "            #print(min_value_chromosome)\n",
    "            return min_value_chromosome,end-start\n",
    "\n",
    "           \n",
    "        \n",
    "    \n",
    "    \n",
    "    \n",
    "    \n",
    "    \n",
    "    \n",
    "    \n",
    "    \n",
    "    \n",
    "    "
   ]
  },
  {
   "cell_type": "code",
   "execution_count": null,
   "metadata": {
    "scrolled": true
   },
   "outputs": [],
   "source": [
    "print(\"CAB 10\")\n",
    "\n",
    "hub_numbers = [3, 5]\n",
    "alphas = [0.2, 0.4, 0.8]\n",
    "\n",
    "for n_hub in hub_numbers:\n",
    "    for alpha in alphas:\n",
    "        costs = []\n",
    "        print(\"n_hub:\", n_hub, \"alpha:\", alpha)\n",
    "        for i in range(10):\n",
    "            a = genetic_algorithm(10, n_hub, 4 ,CAB_10_nodes_flow, CAB_10_nodes_cost, cab_10_capacity, alpha, hub_fixed_costs, 0.85, 0.90, 150)\n",
    "            print(a)\n",
    "            costs.append(a[0][0])\n",
    "        print(\"Average cost:\", sum(costs)/10)\n",
    "        print(\" \")\n",
    "        costs = []\n",
    "\n",
    "        "
   ]
  },
  {
   "cell_type": "code",
   "execution_count": null,
   "metadata": {},
   "outputs": [],
   "source": [
    "print(\"CAB 25\")\n",
    "\n",
    "hub_numbers = [3, 5]\n",
    "alphas = [0.2, 0.4, 0.8]\n",
    "\n",
    "for n_hub in hub_numbers:\n",
    "    for alpha in alphas:\n",
    "        costs = []\n",
    "        print(\"n_hub:\", n_hub, \"alpha:\", alpha)\n",
    "        for i in range(10):\n",
    "            a = genetic_algorithm(25, n_hub, 4 ,CAB_25_nodes_flow, CAB_25_nodes_cost, cab_25_capacity, alpha, hub_fixed_costs, 0.85, 0.90, 100)\n",
    "            print(a)\n",
    "            costs.append(a[0][0])\n",
    "        print(\"Average cost:\", sum(costs)/10)\n",
    "        print(\" \")\n",
    "        costs = []\n"
   ]
  },
  {
   "cell_type": "code",
   "execution_count": null,
   "metadata": {},
   "outputs": [],
   "source": [
    "print(\"TR 25\")\n",
    "\n",
    "hub_numbers = [3, 5]\n",
    "alphas = [0.2, 0.4, 0.8]\n",
    "\n",
    "for n_hub in hub_numbers:\n",
    "    for alpha in alphas:\n",
    "        costs = []\n",
    "        print(\"n_hub:\", n_hub, \"alpha:\", alpha)\n",
    "        for i in range(10):\n",
    "            a = genetic_algorithm(25, n_hub, 4 ,TR_25_nodes_flow, TR_25_nodes_cost, tr_25_capacity, alpha, hub_fixed_costs, 0.85, 0.90, 100)\n",
    "            print(a)\n",
    "            costs.append(a[0][0])\n",
    "        print(\"Average cost:\", sum(costs)/10)\n",
    "        print(\" \")\n",
    "        costs = []\n"
   ]
  },
  {
   "cell_type": "code",
   "execution_count": null,
   "metadata": {},
   "outputs": [],
   "source": [
    "print(\"TR 55\")\n",
    "\n",
    "hub_numbers = [3, 5]\n",
    "alphas = [0.2, 0.4, 0.8]\n",
    "\n",
    "for n_hub in hub_numbers:\n",
    "    for alpha in alphas:\n",
    "        costs = []\n",
    "        print(\"n_hub:\", n_hub, \"alpha:\", alpha)\n",
    "        for i in range(10):\n",
    "            a = genetic_algorithm(25, n_hub, 4 ,TR_55_nodes_flow, TR_55_nodes_cost, tr_55_capacity, alpha, hub_fixed_costs, 0.85, 0.90, 100)\n",
    "            print(a)\n",
    "            costs.append(a[0][0])\n",
    "        print(\"Average cost:\", sum(costs)/10)\n",
    "        print(\" \")\n",
    "        costs = []\n"
   ]
  },
  {
   "cell_type": "code",
   "execution_count": null,
   "metadata": {},
   "outputs": [],
   "source": []
  },
  {
   "cell_type": "markdown",
   "metadata": {},
   "source": [
    "# VNS"
   ]
  },
  {
   "cell_type": "code",
   "execution_count": null,
   "metadata": {
    "scrolled": true
   },
   "outputs": [],
   "source": [
    "#VARIABLE NEIGHBOURHOOD DESCENT\n",
    "\n",
    "def VND( node, n_hub, flow_matrix, cost_matrix, alpha, capacity_matrix, fixed_cost_matrix, n_iterations):\n",
    "    start = time.time()\n",
    "    solution = least_cost_random_hub_based_solution_generator(node, n_hub, cost_matrix)\n",
    "    solution_cost = total_network_cost(solution, node, flow_matrix, cost_matrix, alpha, capacity_matrix, fixed_cost_matrix )\n",
    "    counter = 0\n",
    "    k = 1\n",
    "    while counter < n_iterations:\n",
    "        sol1 = solution.copy()\n",
    "        structures= [NS1,NS2,NS3,NS4,NS5]\n",
    "        random.shuffle(structures)\n",
    "        \n",
    "        neighbours = []\n",
    "        for st in structures:\n",
    "            n = st(sol1, node)\n",
    "            neighbour = n.copy()\n",
    "            neighbours.append(neighbour)\n",
    "\n",
    "        neighbour_costs = [total_network_cost(neighbour, node, flow_matrix, cost_matrix, alpha, capacity_matrix, fixed_cost_matrix ) for neighbour in neighbours]\n",
    "        \n",
    "        if min(neighbour_costs) < solution_cost:\n",
    "            best_neighbour = [neighbour for neighbour in neighbours if min(neighbour_costs) == total_network_cost(neighbour, node, flow_matrix, cost_matrix, alpha, capacity_matrix, fixed_cost_matrix )][0]\n",
    "            best_neighbour_cost = total_network_cost(best_neighbour, node, flow_matrix, cost_matrix, alpha, capacity_matrix, fixed_cost_matrix )\n",
    "            solution = best_neighbour\n",
    "            solution_cost = best_neighbour_cost\n",
    "            counter = counter +1 \n",
    "            \n",
    "        else:\n",
    "\n",
    "            counter = counter + 1\n",
    "            \n",
    "    end = time.time()  \n",
    "    \n",
    "    #print(solution_cost, solution, end-start)\n",
    "    return (solution_cost, solution, end-start)\n",
    "                "
   ]
  },
  {
   "cell_type": "code",
   "execution_count": null,
   "metadata": {
    "scrolled": true
   },
   "outputs": [],
   "source": [
    "print(\"CAB 10\")\n",
    "\n",
    "hub_numbers = [3, 5]\n",
    "alphas = [0.2, 0.4, 0.8]\n",
    "\n",
    "for n_hub in hub_numbers:\n",
    "    for alpha in alphas:\n",
    "        costs = []\n",
    "        print(\"n_hub:\", n_hub, \"alpha:\", alpha)\n",
    "        for i in range(10):\n",
    "            a = VND(10, n_hub, CAB_10_nodes_flow, CAB_10_nodes_cost, alpha, cab_10_capacity, hub_fixed_costs, 10)\n",
    "            print(a)\n",
    "            costs.append(a[0])\n",
    "        print(\"Average cost:\", sum(costs)/10)\n",
    "        print(\" \")\n",
    "        costs = []\n",
    "\n",
    "        \n",
    "  \n",
    "        "
   ]
  },
  {
   "cell_type": "code",
   "execution_count": null,
   "metadata": {
    "scrolled": false
   },
   "outputs": [],
   "source": [
    "print(\"CAB 25\")\n",
    "\n",
    "hub_numbers = [3, 5]\n",
    "alphas = [0.2, 0.4, 0.8]\n",
    "\n",
    "for n_hub in hub_numbers:\n",
    "    for alpha in alphas:\n",
    "        costs = []\n",
    "        print(\"n_hub:\", n_hub, \"alpha:\", alpha)\n",
    "        for i in range(10):\n",
    "            a = VND(25, n_hub, CAB_25_nodes_flow, CAB_25_nodes_cost, alpha, cab_25_capacity, hub_fixed_costs, 20)\n",
    "            print(a)\n",
    "            costs.append(a[0])\n",
    "        print(\"Average cost:\", sum(costs)/10)\n",
    "        print(\" \")\n",
    "        costs = []\n",
    "  \n",
    "        "
   ]
  },
  {
   "cell_type": "code",
   "execution_count": null,
   "metadata": {
    "scrolled": true
   },
   "outputs": [],
   "source": [
    "print(\"TR 25\")\n",
    "\n",
    "hub_numbers = [3, 5]\n",
    "alphas = [0.2, 0.4, 0.8]\n",
    "\n",
    "for n_hub in hub_numbers:\n",
    "    for alpha in alphas:\n",
    "        costs = []\n",
    "        print(\"n_hub:\", n_hub, \"alpha:\", alpha)\n",
    "        for i in range(10):\n",
    "            a = VND(25, n_hub, TR_25_nodes_flow, TR_25_nodes_cost, alpha, tr_25_capacity, hub_fixed_costs, 20)\n",
    "            print(a)\n",
    "            costs.append(a[0])\n",
    "        print(\"Average cost:\", sum(costs)/10)\n",
    "        print(\" \")\n",
    "        costs = []\n",
    "  \n",
    "  "
   ]
  },
  {
   "cell_type": "code",
   "execution_count": null,
   "metadata": {
    "scrolled": true
   },
   "outputs": [],
   "source": [
    "print(\"TR 55\")\n",
    "\n",
    "hub_numbers = [3, 5]\n",
    "alphas = [0.2, 0.4, 0.8]\n",
    "\n",
    "for n_hub in hub_numbers:\n",
    "    for alpha in alphas:\n",
    "        costs = []\n",
    "        print(\"n_hub:\", n_hub, \"alpha:\", alpha)\n",
    "        for i in range(10):\n",
    "            a = VND(55, n_hub, TR_55_nodes_flow, TR_55_nodes_cost, alpha, tr_55_capacity, hub_fixed_costs, 20)\n",
    "            print(a)\n",
    "            costs.append(a[0])\n",
    "        print(\"Average cost:\", sum(costs)/10)\n",
    "        print(\" \")\n",
    "        costs = []\n",
    "  \n",
    "  "
   ]
  },
  {
   "cell_type": "code",
   "execution_count": null,
   "metadata": {
    "scrolled": true
   },
   "outputs": [],
   "source": []
  },
  {
   "cell_type": "code",
   "execution_count": null,
   "metadata": {
    "scrolled": true
   },
   "outputs": [],
   "source": []
  },
  {
   "cell_type": "code",
   "execution_count": null,
   "metadata": {
    "scrolled": true
   },
   "outputs": [],
   "source": []
  },
  {
   "cell_type": "code",
   "execution_count": null,
   "metadata": {
    "scrolled": true
   },
   "outputs": [],
   "source": [
    "#REDUCED VARIABLE NEIGHBOURHOOD SEARCH\n",
    "\n",
    "def RVND( node, n_hub, flow_matrix, cost_matrix, alpha, capacity_matrix, fixed_cost_matrix, n_iterations):\n",
    "    start = time.time()\n",
    "    solution = least_cost_random_hub_based_solution_generator(node, n_hub, cost_matrix)\n",
    "    solution_cost = total_network_cost(solution, node, flow_matrix, cost_matrix, alpha, capacity_matrix, fixed_cost_matrix )\n",
    "    counter = 0\n",
    "    k = 1\n",
    "    while counter < n_iterations:\n",
    "        sol1 = solution.copy()\n",
    "        structures= [NS1,NS2,NS3,NS4,NS5]\n",
    "        random.shuffle(structures)\n",
    "        chosen = random.choice(structures)\n",
    "        n = chosen(sol1, node)\n",
    "        neighbour = n.copy()\n",
    "\n",
    "        neighbour_cost = total_network_cost(neighbour, node, flow_matrix, cost_matrix, alpha, capacity_matrix, fixed_cost_matrix ) \n",
    "        \n",
    "        if neighbour_cost< solution_cost:\n",
    "            solution = neighbour\n",
    "            solution_cost = neighbour_cost\n",
    "            counter = counter +1 \n",
    "        else:\n",
    "            counter = counter + 1\n",
    "            \n",
    "    end = time.time()  \n",
    "    \n",
    "    \n",
    "    return (solution_cost, solution, end-start)\n",
    "                "
   ]
  },
  {
   "cell_type": "code",
   "execution_count": null,
   "metadata": {
    "scrolled": true
   },
   "outputs": [],
   "source": [
    "print(\"CAB 10\")\n",
    "\n",
    "hub_numbers = [3, 5]\n",
    "alphas = [0.2, 0.4, 0.8]\n",
    "\n",
    "for n_hub in hub_numbers:\n",
    "    for alpha in alphas:\n",
    "        costs = []\n",
    "        print(\"n_hub:\", n_hub, \"alpha:\", alpha)\n",
    "        for i in range(10):\n",
    "            a = RVND(10, n_hub, CAB_10_nodes_flow, CAB_10_nodes_cost, alpha, cab_10_capacity, hub_fixed_costs, 10)\n",
    "            print(a)\n",
    "            costs.append(a[0])\n",
    "        print(\"Average cost:\", sum(costs)/10)\n",
    "        print(\" \")\n",
    "        costs = []\n",
    "  "
   ]
  },
  {
   "cell_type": "code",
   "execution_count": null,
   "metadata": {
    "scrolled": false
   },
   "outputs": [],
   "source": [
    "print(\"CAB 25\")\n",
    "\n",
    "hub_numbers = [3, 5]\n",
    "alphas = [0.2, 0.4, 0.8]\n",
    "\n",
    "for n_hub in hub_numbers:\n",
    "    for alpha in alphas:\n",
    "        costs = []\n",
    "        print(\"n_hub:\", n_hub, \"alpha:\", alpha)\n",
    "        for i in range(10):\n",
    "            a = RVND(25, n_hub, CAB_25_nodes_flow, CAB_25_nodes_cost, alpha, cab_25_capacity, hub_fixed_costs, 20)\n",
    "            print(a)\n",
    "            costs.append(a[0])\n",
    "        print(\"Average cost:\", sum(costs)/10)\n",
    "        print(\" \")\n",
    "        costs = []\n",
    "  "
   ]
  },
  {
   "cell_type": "code",
   "execution_count": null,
   "metadata": {
    "scrolled": true
   },
   "outputs": [],
   "source": [
    "print(\"TR 25\")\n",
    "\n",
    "hub_numbers = [3, 5]\n",
    "alphas = [0.2, 0.4, 0.8]\n",
    "\n",
    "for n_hub in hub_numbers:\n",
    "    for alpha in alphas:\n",
    "        costs = []\n",
    "        print(\"n_hub:\", n_hub, \"alpha:\", alpha)\n",
    "        for i in range(10):\n",
    "            a = RVND(25, n_hub, TR_25_nodes_flow, TR_25_nodes_cost, alpha, tr_25_capacity, hub_fixed_costs,20)\n",
    "            print(a)\n",
    "            costs.append(a[0])\n",
    "        print(\"Average cost:\", sum(costs)/10)\n",
    "        print(\" \")\n",
    "        costs = []\n",
    "  "
   ]
  },
  {
   "cell_type": "code",
   "execution_count": null,
   "metadata": {
    "scrolled": true
   },
   "outputs": [],
   "source": [
    "print(\"TR 55\")\n",
    "\n",
    "hub_numbers = [3, 5]\n",
    "alphas = [0.2, 0.4, 0.8]\n",
    "\n",
    "for n_hub in hub_numbers:\n",
    "    for alpha in alphas:\n",
    "        costs = []\n",
    "        print(\"n_hub:\", n_hub, \"alpha:\", alpha)\n",
    "        for i in range(10):\n",
    "            a = RVND(55, n_hub, TR_55_nodes_flow, TR_55_nodes_cost, alpha, tr_55_capacity, hub_fixed_costs, 20)\n",
    "            print(a)\n",
    "            costs.append(a[0])\n",
    "        print(\"Average cost:\", sum(costs)/10)\n",
    "        print(\" \")\n",
    "        costs = []\n",
    "  "
   ]
  },
  {
   "cell_type": "code",
   "execution_count": null,
   "metadata": {
    "scrolled": true
   },
   "outputs": [],
   "source": []
  },
  {
   "cell_type": "code",
   "execution_count": null,
   "metadata": {
    "scrolled": true
   },
   "outputs": [],
   "source": []
  },
  {
   "cell_type": "code",
   "execution_count": null,
   "metadata": {
    "scrolled": true
   },
   "outputs": [],
   "source": []
  },
  {
   "cell_type": "code",
   "execution_count": null,
   "metadata": {
    "scrolled": true
   },
   "outputs": [],
   "source": [
    "#REVISED REDUCED VARIABLE NEIGHBOURHOOD SEARCH\n",
    "\n",
    "def RRVND( node, n_hub, flow_matrix, cost_matrix, alpha, capacity_matrix, fixed_cost_matrix, n_iterations):\n",
    "    start = time.time()\n",
    "    solution = least_cost_random_hub_based_solution_generator(node, n_hub, cost_matrix)\n",
    "    solution_cost = total_network_cost(solution, node, flow_matrix, cost_matrix, alpha, capacity_matrix, fixed_cost_matrix )\n",
    "    counter = 0\n",
    "    k = 1\n",
    "    while counter < n_iterations:\n",
    "\n",
    "        \n",
    "        sol1 = solution.copy()\n",
    "        \n",
    "   \n",
    "        structures= [NS1,NS2,NS3,NS4,NS5]\n",
    "        random.shuffle(structures)\n",
    "        chosen = random.choice(structures)\n",
    "        \n",
    "        neighbours = []\n",
    "        #for ns in structures:\n",
    "        for i in range(5):\n",
    "            n = chosen(sol1, node)   #ns(sol1, node)\n",
    "            neighbour = n.copy()\n",
    "            neighbours.append(neighbour)\n",
    "        \n",
    "\n",
    "        neighbour_costs = [total_network_cost(neighbour, node, flow_matrix, cost_matrix, alpha, capacity_matrix, fixed_cost_matrix ) for neighbour in neighbours]\n",
    "        \n",
    "        if min(neighbour_costs) < solution_cost:\n",
    "            best_neighbour = [neighbour for neighbour in neighbours if min(neighbour_costs) == total_network_cost(neighbour, node, flow_matrix, cost_matrix, alpha, capacity_matrix, fixed_cost_matrix )][0]\n",
    "            best_neighbour_cost = total_network_cost(best_neighbour, node, flow_matrix, cost_matrix, alpha, capacity_matrix, fixed_cost_matrix )\n",
    "            solution = best_neighbour\n",
    "            solution_cost = best_neighbour_cost\n",
    "            counter = counter +1 \n",
    "            \n",
    "        else:\n",
    "            counter = counter + 1\n",
    "            \n",
    "    end = time.time()  \n",
    "    #print(solution_cost, solution, end-start)\n",
    "    return (solution_cost, solution, end-start)\n",
    "                \n",
    "    \n",
    "    "
   ]
  },
  {
   "cell_type": "code",
   "execution_count": null,
   "metadata": {
    "scrolled": true
   },
   "outputs": [],
   "source": [
    "print(\"CAB 10\") # 10 iterations\n",
    "\n",
    "hub_numbers = [3, 5]\n",
    "alphas = [0.2, 0.4, 0.8]\n",
    "\n",
    "for n_hub in hub_numbers:\n",
    "    for alpha in alphas:\n",
    "        costs = []\n",
    "        print(\"n_hub:\", n_hub, \"alpha:\", alpha)\n",
    "        for i in range(10):\n",
    "            a = RRVND(10, n_hub, CAB_10_nodes_flow, CAB_10_nodes_cost, alpha, cab_10_capacity, hub_fixed_costs, 10)\n",
    "            print(a)\n",
    "            costs.append(a[0])\n",
    "        print(\"Average cost:\", sum(costs)/10)\n",
    "        print(\" \")\n",
    "        costs = []\n",
    "  "
   ]
  },
  {
   "cell_type": "code",
   "execution_count": null,
   "metadata": {
    "scrolled": true
   },
   "outputs": [],
   "source": [
    "print(\"CAB 25\")\n",
    "\n",
    "hub_numbers = [3, 5]\n",
    "alphas = [0.2, 0.4, 0.8]\n",
    "\n",
    "for n_hub in hub_numbers:\n",
    "    for alpha in alphas:\n",
    "        costs = []\n",
    "        print(\"n_hub:\", n_hub, \"alpha:\", alpha)\n",
    "        for i in range(10):\n",
    "            a = RRVND(25, n_hub, CAB_25_nodes_flow, CAB_25_nodes_cost, alpha, cab_25_capacity, hub_fixed_costs, 20)\n",
    "            print(a)\n",
    "            costs.append(a[0])\n",
    "        print(\"Average cost:\", sum(costs)/10)\n",
    "        print(\" \")\n",
    "        costs = []\n",
    "  "
   ]
  },
  {
   "cell_type": "code",
   "execution_count": null,
   "metadata": {
    "scrolled": true
   },
   "outputs": [],
   "source": [
    "print(\"TR 25\")\n",
    "\n",
    "n_hubs = [3, 5]\n",
    "alphas = [0.2, 0.4, 0.8]\n",
    "\n",
    "hub_numbers = [3, 5]\n",
    "alphas = [0.2, 0.4, 0.8]\n",
    "\n",
    "for n_hub in hub_numbers:\n",
    "    for alpha in alphas:\n",
    "        costs = []\n",
    "        print(\"n_hub:\", n_hub, \"alpha:\", alpha)\n",
    "        for i in range(10):\n",
    "            a = RRVND(25, n_hub, TR_25_nodes_flow, TR_25_nodes_cost, alpha, tr_25_capacity, hub_fixed_costs, 20)\n",
    "            print(a)\n",
    "            costs.append(a[0])\n",
    "        print(\"Average cost:\", sum(costs)/10)\n",
    "        print(\" \")\n",
    "        costs = []\n",
    "  "
   ]
  },
  {
   "cell_type": "code",
   "execution_count": null,
   "metadata": {
    "scrolled": true
   },
   "outputs": [],
   "source": [
    "print(\"TR 55\")\n",
    "\n",
    "hub_numbers = [3, 5]\n",
    "alphas = [0.2, 0.4, 0.8]\n",
    "\n",
    "for n_hub in hub_numbers:\n",
    "    for alpha in alphas:\n",
    "        costs = []\n",
    "        print(\"n_hub:\", n_hub, \"alpha:\", alpha)\n",
    "        for i in range(10):\n",
    "            a = RRVND(55, n_hub, TR_55_nodes_flow, TR_55_nodes_cost, alpha, tr_55_capacity, hub_fixed_costs, 20)\n",
    "            print(a)\n",
    "            costs.append(a[0])\n",
    "        print(\"Average cost:\", sum(costs)/10)\n",
    "        print(\" \")\n",
    "        costs = []\n",
    "  "
   ]
  }
 ],
 "metadata": {
  "kernelspec": {
   "display_name": "Python 3",
   "language": "python",
   "name": "python3"
  },
  "language_info": {
   "codemirror_mode": {
    "name": "ipython",
    "version": 3
   },
   "file_extension": ".py",
   "mimetype": "text/x-python",
   "name": "python",
   "nbconvert_exporter": "python",
   "pygments_lexer": "ipython3",
   "version": "3.8.5"
  }
 },
 "nbformat": 4,
 "nbformat_minor": 4
}
